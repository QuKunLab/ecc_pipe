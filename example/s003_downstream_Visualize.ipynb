{
 "cells": [
  {
   "cell_type": "code",
   "execution_count": 1,
   "id": "sunrise-colors",
   "metadata": {},
   "outputs": [],
   "source": [
    "## Downstream Analysis -- Visualize  example\n",
    "## author: fmh\n",
    "## date:2023-11-20"
   ]
  },
  {
   "cell_type": "code",
   "execution_count": 2,
   "id": "sophisticated-malaysia",
   "metadata": {},
   "outputs": [],
   "source": [
    "import sys\n",
    "sys.path.append('./ecc_pipe/analysis_code')\n",
    "from Distribution import *\n",
    "from DEG import *\n",
    "from Circlize import *"
   ]
  },
  {
   "cell_type": "code",
   "execution_count": 3,
   "id": "stylish-butterfly",
   "metadata": {
    "scrolled": true
   },
   "outputs": [
    {
     "name": "stdout",
     "output_type": "stream",
     "text": [
      "This eccDNA is simple, just 1 region\n"
     ]
    },
    {
     "name": "stderr",
     "output_type": "stream",
     "text": [
      "***** WARNING: File ./ecc_pipe/resource/Analysis/reference/genes.10X.hg38.bed has inconsistent naming convention for record:\n",
      "GL000009.2\t56140\t58376\tBX004987.1\n",
      "\n",
      "***** WARNING: File ./ecc_pipe/resource/Analysis/reference/genes.10X.hg38.bed has inconsistent naming convention for record:\n",
      "GL000009.2\t56140\t58376\tBX004987.1\n",
      "\n",
      "========================================\n",
      "circlize version 0.4.15\n",
      "CRAN page: https://cran.r-project.org/package=circlize\n",
      "Github page: https://github.com/jokergoo/circlize\n",
      "Documentation: https://jokergoo.github.io/circlize_book/book/\n",
      "\n",
      "If you use it in published research, please cite:\n",
      "Gu, Z. circlize implements and enhances circular visualization\n",
      "  in R. Bioinformatics 2014.\n",
      "\n",
      "This message can be suppressed by:\n",
      "  suppressPackageStartupMessages(library(circlize))\n",
      "========================================\n",
      "\n"
     ]
    },
    {
     "name": "stdout",
     "output_type": "stream",
     "text": [
      "integer(0)\n",
      "[1] \"This eccDNA not have annotation gene\"\n",
      "null device \n",
      "          1 \n"
     ]
    }
   ],
   "source": [
    "## input result_file_path(contains analysis.bed)\n",
    "bed_file = './data/github_online/AA/ecc_pipe_result/AA_result.analysis.bed'\n",
    "ecc_id = 2\n",
    "geno='hg38'\n",
    "ecc_pipe_path = './ecc_pipe' ## please set download resource file first \n",
    "R_env = '~/miniconda3/envs/ecc_pipe/bin/Rscript'\n",
    "\n",
    "## annotation gene for show in eccDNA\n",
    "ratio=0.5 ## overlap ratio for compute gene in eccDNA\n",
    "_type='region'\n",
    "## gene: comput gene in eccDNA / region: comput eccDNA in gene\n",
    "## we suggest 'region' for NGS; 'gene' for TGS\n",
    "\n",
    "make_circlize_file(bed_file, geno,ecc_id, ratio=ratio, _type=_type, ecc_pipe_path=ecc_pipe_path, R_env=R_env)"
   ]
  },
  {
   "cell_type": "code",
   "execution_count": 4,
   "id": "detected-darkness",
   "metadata": {},
   "outputs": [
    {
     "data": {
      "text/plain": [
       "['circlize_ecc_peak.bed', 'circlize_ecc_peak_gene.bed', 'circlize_plot.pdf']"
      ]
     },
     "execution_count": 4,
     "metadata": {},
     "output_type": "execute_result"
    }
   ],
   "source": [
    "## result file list\n",
    "os.listdir('./github_online/AA/ecc_pipe_result/06.circlize/')"
   ]
  },
  {
   "cell_type": "code",
   "execution_count": null,
   "id": "exact-combat",
   "metadata": {},
   "outputs": [],
   "source": []
  }
 ],
 "metadata": {
  "kernelspec": {
   "display_name": "py_ecc_pipe",
   "language": "python",
   "name": "py_ecc_pipe"
  },
  "language_info": {
   "codemirror_mode": {
    "name": "ipython",
    "version": 3
   },
   "file_extension": ".py",
   "mimetype": "text/x-python",
   "name": "python",
   "nbconvert_exporter": "python",
   "pygments_lexer": "ipython3",
   "version": "3.8.13"
  }
 },
 "nbformat": 4,
 "nbformat_minor": 5
}
