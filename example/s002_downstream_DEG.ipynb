{
 "cells": [
  {
   "cell_type": "code",
   "execution_count": 1,
   "id": "recreational-lemon",
   "metadata": {},
   "outputs": [],
   "source": [
    "## Downstream Analysis -- DEG  example\n",
    "## author: fmh\n",
    "## date:2023-11-20"
   ]
  },
  {
   "cell_type": "code",
   "execution_count": 2,
   "id": "naughty-secondary",
   "metadata": {},
   "outputs": [],
   "source": [
    "import sys\n",
    "sys.path.append('./ecc_pipe/analysis_code')\n",
    "from Distribution import *\n",
    "from DEG import *\n",
    "from Circlize import *"
   ]
  },
  {
   "cell_type": "code",
   "execution_count": 3,
   "id": "appropriate-george",
   "metadata": {},
   "outputs": [],
   "source": [
    "## example data is 4 vs 4 nanopore data from CReSIL"
   ]
  },
  {
   "cell_type": "code",
   "execution_count": 4,
   "id": "moving-equality",
   "metadata": {},
   "outputs": [
    {
     "data": {
      "text/plain": [
       "['group.txt',\n",
       " 'group1_rep1',\n",
       " 'group2_rep1',\n",
       " 'group1_rep2',\n",
       " 'group1_rep3',\n",
       " 'group1_rep4',\n",
       " 'group2_rep2',\n",
       " 'group2_rep3',\n",
       " 'group2_rep4',\n",
       " '01.ecc_deg_output',\n",
       " '02.ecc_deg_go_kegg']"
      ]
     },
     "execution_count": 4,
     "metadata": {},
     "output_type": "execute_result"
    }
   ],
   "source": [
    "## merge all analysis data in same share_path\n",
    "os.listdir('./data/github_online/deg_test/')"
   ]
  },
  {
   "cell_type": "code",
   "execution_count": 6,
   "id": "altered-world",
   "metadata": {
    "scrolled": true
   },
   "outputs": [],
   "source": [
    "## first need run Distribution mode for all data\n",
    "path_share = './data/github_online/deg_test/'\n",
    "for file_name in os.listdir(path_share):\n",
    "    if '.txt' in file_name:\n",
    "        continue\n",
    "    file_path = path_share+file_name+'/eccDNA_final.txt'\n",
    "    _type='cresil'\n",
    "    geno='hg38'\n",
    "    eccDNA_dis = distribution(file_path, _type, geno)\n",
    "    ecc_pipe_path = './ecc_pipe' ## please set download resource file first \n",
    "    eccDNA_dis.run_fast(ecc_pipe_path=ecc_pipe_path)\n",
    "    "
   ]
  },
  {
   "cell_type": "markdown",
   "id": "municipal-canadian",
   "metadata": {},
   "source": [
    "## DEG fast run"
   ]
  },
  {
   "cell_type": "code",
   "execution_count": 5,
   "id": "opposite-dover",
   "metadata": {},
   "outputs": [],
   "source": [
    "path_share = './data/github_online/deg_test/'\n",
    "group_file_path = './data/github_online/deg_test/group.txt'\n",
    "geno = 'hg38'\n",
    "ratio = 0.5 ## overlap ratio for compute gene_counts in eccDNA\n",
    "_type = 'gene' \n",
    "## gene: comput gene in eccDNA / region: comput eccDNA in gene\n",
    "## example data is nanopore TGS data, so choose 'gene' , we suggest 'region' for NGS\n",
    "eccDNA_deg = ecc_gene_number_deg(path_share=path_share,\n",
    "                                    group_file_path=group_file_path,\n",
    "                                    geno=geno,\n",
    "                                    ratio=ratio,\n",
    "                                   _type=_type)"
   ]
  },
  {
   "cell_type": "code",
   "execution_count": 6,
   "id": "rocky-samuel",
   "metadata": {
    "scrolled": true
   },
   "outputs": [
    {
     "name": "stdout",
     "output_type": "stream",
     "text": [
      "Run fast Start!\n",
      "\tMake ecc gene number matrix start!\n"
     ]
    },
    {
     "name": "stderr",
     "output_type": "stream",
     "text": [
      "***** WARNING: File ./ecc_pipe/resource/Analysis/reference/genes.10X.hg38.all.bed has inconsistent naming convention for record:\n",
      "GL000009.2\t56140\t58376\tBX004987.1\n",
      "\n",
      "***** WARNING: File ./ecc_pipe/resource/Analysis/reference/genes.10X.hg38.all.bed has inconsistent naming convention for record:\n",
      "GL000009.2\t56140\t58376\tBX004987.1\n",
      "\n",
      "***** WARNING: File ./ecc_pipe/resource/Analysis/reference/genes.10X.hg38.all.bed has inconsistent naming convention for record:\n",
      "GL000009.2\t56140\t58376\tBX004987.1\n",
      "\n",
      "***** WARNING: File ./ecc_pipe/resource/Analysis/reference/genes.10X.hg38.all.bed has inconsistent naming convention for record:\n",
      "GL000009.2\t56140\t58376\tBX004987.1\n",
      "\n",
      "***** WARNING: File ./ecc_pipe/resource/Analysis/reference/genes.10X.hg38.all.bed has inconsistent naming convention for record:\n",
      "GL000009.2\t56140\t58376\tBX004987.1\n",
      "\n",
      "***** WARNING: File ./ecc_pipe/resource/Analysis/reference/genes.10X.hg38.all.bed has inconsistent naming convention for record:\n",
      "GL000009.2\t56140\t58376\tBX004987.1\n",
      "\n",
      "***** WARNING: File ./ecc_pipe/resource/Analysis/reference/genes.10X.hg38.all.bed has inconsistent naming convention for record:\n",
      "GL000009.2\t56140\t58376\tBX004987.1\n",
      "\n",
      "***** WARNING: File ./ecc_pipe/resource/Analysis/reference/genes.10X.hg38.all.bed has inconsistent naming convention for record:\n",
      "GL000009.2\t56140\t58376\tBX004987.1\n",
      "\n",
      "***** WARNING: File ./ecc_pipe/resource/Analysis/reference/genes.10X.hg38.all.bed has inconsistent naming convention for record:\n",
      "GL000009.2\t56140\t58376\tBX004987.1\n",
      "\n",
      "***** WARNING: File ./ecc_pipe/resource/Analysis/reference/genes.10X.hg38.all.bed has inconsistent naming convention for record:\n",
      "GL000009.2\t56140\t58376\tBX004987.1\n",
      "\n",
      "***** WARNING: File ./ecc_pipe/resource/Analysis/reference/genes.10X.hg38.all.bed has inconsistent naming convention for record:\n",
      "GL000009.2\t56140\t58376\tBX004987.1\n",
      "\n",
      "***** WARNING: File ./ecc_pipe/resource/Analysis/reference/genes.10X.hg38.all.bed has inconsistent naming convention for record:\n",
      "GL000009.2\t56140\t58376\tBX004987.1\n",
      "\n",
      "***** WARNING: File ./ecc_pipe/resource/Analysis/reference/genes.10X.hg38.all.bed has inconsistent naming convention for record:\n",
      "GL000009.2\t56140\t58376\tBX004987.1\n",
      "\n",
      "***** WARNING: File ./ecc_pipe/resource/Analysis/reference/genes.10X.hg38.all.bed has inconsistent naming convention for record:\n",
      "GL000009.2\t56140\t58376\tBX004987.1\n",
      "\n",
      "***** WARNING: File ./ecc_pipe/resource/Analysis/reference/genes.10X.hg38.all.bed has inconsistent naming convention for record:\n",
      "GL000009.2\t56140\t58376\tBX004987.1\n",
      "\n",
      "***** WARNING: File ./ecc_pipe/resource/Analysis/reference/genes.10X.hg38.all.bed has inconsistent naming convention for record:\n",
      "GL000009.2\t56140\t58376\tBX004987.1\n",
      "\n"
     ]
    },
    {
     "name": "stdout",
     "output_type": "stream",
     "text": [
      "\tMake ecc gene number matrix end!\n",
      "\tdeg run start!\n"
     ]
    },
    {
     "name": "stderr",
     "output_type": "stream",
     "text": [
      "Warning message:\n",
      "package ‘limma’ was built under R version 4.2.3 \n",
      "Warning message:\n",
      "package ‘edgeR’ was built under R version 4.2.3 \n"
     ]
    },
    {
     "name": "stdout",
     "output_type": "stream",
     "text": [
      "(0, 3)\n",
      "(5, 3)\n"
     ]
    },
    {
     "data": {
      "image/png": "[encoded data removed]",
      "text/plain": [
       "<Figure size 576x480 with 1 Axes>"
      ]
     },
     "metadata": {},
     "output_type": "display_data"
    },
    {
     "name": "stdout",
     "output_type": "stream",
     "text": [
      "\tdeg run end!\n",
      "clusterprofile run start!\n"
     ]
    },
    {
     "name": "stderr",
     "output_type": "stream",
     "text": [
      "\n",
      "DOSE v3.24.0  For help: https://yulab-smu.top/biomedical-knowledge-mining-book/\n",
      "\n",
      "If you use DOSE in published research, please cite:\n",
      "Guangchuang Yu, Li-Gen Wang, Guang-Rong Yan, Qing-Yu He. DOSE: an R/Bioconductor package for Disease Ontology Semantic and Enrichment analysis. Bioinformatics 2015, 31(4):608-609\n",
      "\n",
      "\n",
      "Attaching package: ‘dplyr’\n",
      "\n",
      "The following objects are masked from ‘package:stats’:\n",
      "\n",
      "    filter, lag\n",
      "\n",
      "The following objects are masked from ‘package:base’:\n",
      "\n",
      "    intersect, setdiff, setequal, union\n",
      "\n",
      "Warning message:\n",
      "package ‘dplyr’ was built under R version 4.2.3 \n",
      "Loading required package: AnnotationDbi\n",
      "Loading required package: stats4\n",
      "Loading required package: BiocGenerics\n",
      "\n",
      "Attaching package: ‘BiocGenerics’\n",
      "\n",
      "The following objects are masked from ‘package:dplyr’:\n",
      "\n",
      "    combine, intersect, setdiff, union\n",
      "\n",
      "The following objects are masked from ‘package:stats’:\n",
      "\n",
      "    IQR, mad, sd, var, xtabs\n",
      "\n",
      "The following objects are masked from ‘package:base’:\n",
      "\n",
      "    anyDuplicated, aperm, append, as.data.frame, basename, cbind,\n",
      "    colnames, dirname, do.call, duplicated, eval, evalq, Filter, Find,\n",
      "    get, grep, grepl, intersect, is.unsorted, lapply, Map, mapply,\n",
      "    match, mget, order, paste, pmax, pmax.int, pmin, pmin.int,\n",
      "    Position, rank, rbind, Reduce, rownames, sapply, setdiff, sort,\n",
      "    table, tapply, union, unique, unsplit, which.max, which.min\n",
      "\n",
      "Loading required package: Biobase\n",
      "Welcome to Bioconductor\n",
      "\n",
      "    Vignettes contain introductory material; view with\n",
      "    'browseVignettes()'. To cite Bioconductor, see\n",
      "    'citation(\"Biobase\")', and for packages 'citation(\"pkgname\")'.\n",
      "\n",
      "Loading required package: IRanges\n",
      "Loading required package: S4Vectors\n",
      "\n",
      "Attaching package: ‘S4Vectors’\n",
      "\n",
      "The following objects are masked from ‘package:dplyr’:\n",
      "\n",
      "    first, rename\n",
      "\n",
      "The following objects are masked from ‘package:base’:\n",
      "\n",
      "    expand.grid, I, unname\n",
      "\n",
      "\n",
      "Attaching package: ‘IRanges’\n",
      "\n",
      "The following objects are masked from ‘package:dplyr’:\n",
      "\n",
      "    collapse, desc, slice\n",
      "\n",
      "\n",
      "Attaching package: ‘AnnotationDbi’\n",
      "\n",
      "The following object is masked from ‘package:dplyr’:\n",
      "\n",
      "    select\n",
      "\n",
      "\n",
      "Warning messages:\n",
      "1: package ‘Biobase’ was built under R version 4.2.3 \n",
      "2: package ‘IRanges’ was built under R version 4.2.3 \n",
      "3: package ‘S4Vectors’ was built under R version 4.2.3 \n",
      "\n",
      "clusterProfiler v4.6.0  For help: https://yulab-smu.top/biomedical-knowledge-mining-book/\n",
      "\n",
      "If you use clusterProfiler in published research, please cite:\n",
      "T Wu, E Hu, S Xu, M Chen, P Guo, Z Dai, T Feng, L Zhou, W Tang, L Zhan, X Fu, S Liu, X Bo, and G Yu. clusterProfiler 4.0: A universal enrichment tool for interpreting omics data. The Innovation. 2021, 2(3):100141\n",
      "\n",
      "Attaching package: ‘clusterProfiler’\n",
      "\n",
      "The following object is masked from ‘package:AnnotationDbi’:\n",
      "\n",
      "    select\n",
      "\n",
      "The following object is masked from ‘package:IRanges’:\n",
      "\n",
      "    slice\n",
      "\n",
      "The following object is masked from ‘package:S4Vectors’:\n",
      "\n",
      "    rename\n",
      "\n",
      "The following object is masked from ‘package:stats’:\n",
      "\n",
      "    filter\n",
      "\n",
      "Warning message:\n",
      "package ‘ggplot2’ was built under R version 4.2.3 \n",
      "\n",
      "Attaching package: ‘cowplot’\n",
      "\n",
      "The following object is masked from ‘package:patchwork’:\n",
      "\n",
      "    align_plots\n",
      "\n",
      "--> No gene can be mapped....\n",
      "--> Expected input gene ID: ENSG00000137948,ENSG00000183644,ENSG00000100031,ENSG00000288121,ENSG00000165059,ENSG00000137497\n",
      "--> return NULL...\n",
      "'select()' returned 1:many mapping between keys and columns\n",
      "Warning message:\n",
      "In bitr(rownames(DEG_result), fromType = \"SYMBOL\", toType = c(\"ENSEMBL\",  :\n",
      "  20% of input gene IDs are fail to map...\n",
      "'select()' returned 1:1 mapping between keys and columns\n",
      "Warning message:\n",
      "In bitr(gene, fromType = \"SYMBOL\", toType = \"ENTREZID\", OrgDb = \"org.Hs.eg.db\") :\n",
      "  3.14% of input gene IDs are fail to map...\n",
      "preparing geneSet collections...\n",
      "GSEA analysis...\n",
      "leading edge analysis...\n",
      "done...\n",
      "Warning message:\n",
      "In preparePathwaysAndStats(pathways, stats, minSize, maxSize, gseaParam,  :\n",
      "  There are ties in the preranked stats (61.69% of the list).\n",
      "The order of those tied genes will be arbitrary, which may produce unexpected results.\n",
      "Warning messages:\n",
      "1: In write.csv(gsea_df, file = gsea_result_1, sep = \",\", row.names = TRUE,  :\n",
      "  attempt to set 'col.names' ignored\n",
      "2: In write.csv(gsea_df, file = gsea_result_1, sep = \",\", row.names = TRUE,  :\n",
      "  attempt to set 'sep' ignored\n",
      "Warning messages:\n",
      "1: In write.csv(data_all_sort, file = gsea_result_2, sep = \",\", row.names = TRUE,  :\n",
      "  attempt to set 'col.names' ignored\n",
      "2: In write.csv(data_all_sort, file = gsea_result_2, sep = \",\", row.names = TRUE,  :\n",
      "  attempt to set 'sep' ignored\n"
     ]
    },
    {
     "name": "stdout",
     "output_type": "stream",
     "text": [
      "clusterprofile run end!\n",
      "Run fast End!\n"
     ]
    }
   ],
   "source": [
    "ecc_pipe_path = './ecc_pipe' ## please set download resource file first \n",
    "R_env = '~/miniconda3/envs/ecc_pipe/bin/Rscript'\n",
    "eccDNA_deg.run_fast(ecc_pipe_path=ecc_pipe_path, R_env=R_env,\n",
    "                    mode='limma', ## str in ['deseq2','limma', 'edger']\n",
    "                    pvalue=0.05, log2fc=0.5, xlim=10, ylim=5)"
   ]
  },
  {
   "cell_type": "code",
   "execution_count": 7,
   "id": "committed-isolation",
   "metadata": {},
   "outputs": [
    {
     "data": {
      "text/plain": [
       "['count.txt',\n",
       " 'deseq2_norm_matrix.csv',\n",
       " 'deseq2_result.csv',\n",
       " 'deseq2.volcano.pdf',\n",
       " 'edger_norm_matrix.csv',\n",
       " 'edger_result.csv',\n",
       " 'edger.volcano.pdf',\n",
       " 'limma_norm_matrix.csv',\n",
       " 'limma_result.csv',\n",
       " 'limma.volcano.pdf']"
      ]
     },
     "execution_count": 7,
     "metadata": {},
     "output_type": "execute_result"
    }
   ],
   "source": [
    "## result file list\n",
    "os.listdir('./data/github_online/deg_test/01.ecc_deg_output/')"
   ]
  },
  {
   "cell_type": "code",
   "execution_count": 8,
   "id": "closed-extent",
   "metadata": {},
   "outputs": [
    {
     "data": {
      "text/plain": [
       "['limma_GO_down.csv',\n",
       " 'limma_gsea_result_1.csv',\n",
       " 'limma_gsea_result_2.csv',\n",
       " 'limma_gsea_top_1.pdf',\n",
       " 'limma_gsea_top_2.pdf',\n",
       " 'limma_gsea_top_3.pdf',\n",
       " 'limma_gsea_top_4.pdf',\n",
       " 'limma_gsea_top_5.pdf',\n",
       " 'limma_gsea_result_final.csv']"
      ]
     },
     "execution_count": 8,
     "metadata": {},
     "output_type": "execute_result"
    }
   ],
   "source": [
    "## result file list\n",
    "os.listdir('./data/github_online/deg_test/02.ecc_deg_go_kegg/')"
   ]
  },
  {
   "cell_type": "markdown",
   "id": "color-belief",
   "metadata": {},
   "source": [
    "## Step by Step"
   ]
  },
  {
   "cell_type": "code",
   "execution_count": 9,
   "id": "centered-melbourne",
   "metadata": {},
   "outputs": [],
   "source": [
    "## step by step\n",
    "path_share = './data/github_online/deg_test/'\n",
    "group_file_path = './data/github_online/deg_test/group.txt'\n",
    "geno = 'hg38'\n",
    "ratio = 0.5 ## overlap ratio for compute gene_counts in eccDNA\n",
    "_type = 'gene' ## gene: comput gene in eccDNA / region: comput eccDNA in gene\n",
    "## example data is nanopore TGS data, so choose 'gene' , we suggest 'region' for NGS\n",
    "eccDNA_deg = ecc_gene_number_deg(path_share=path_share,\n",
    "                                    group_file_path=group_file_path,\n",
    "                                    geno=geno,\n",
    "                                    ratio=ratio,\n",
    "                                   _type=_type)"
   ]
  },
  {
   "cell_type": "code",
   "execution_count": 10,
   "id": "medium-graph",
   "metadata": {
    "scrolled": true
   },
   "outputs": [
    {
     "name": "stdout",
     "output_type": "stream",
     "text": [
      "Make ecc gene number matrix start!\n"
     ]
    },
    {
     "name": "stderr",
     "output_type": "stream",
     "text": [
      "***** WARNING: File ./ecc_pipe/resource/Analysis/reference/genes.10X.hg38.all.bed has inconsistent naming convention for record:\n",
      "GL000009.2\t56140\t58376\tBX004987.1\n",
      "\n",
      "***** WARNING: File ./ecc_pipe/resource/Analysis/reference/genes.10X.hg38.all.bed has inconsistent naming convention for record:\n",
      "GL000009.2\t56140\t58376\tBX004987.1\n",
      "\n",
      "***** WARNING: File ./ecc_pipe/resource/Analysis/reference/genes.10X.hg38.all.bed has inconsistent naming convention for record:\n",
      "GL000009.2\t56140\t58376\tBX004987.1\n",
      "\n",
      "***** WARNING: File ./ecc_pipe/resource/Analysis/reference/genes.10X.hg38.all.bed has inconsistent naming convention for record:\n",
      "GL000009.2\t56140\t58376\tBX004987.1\n",
      "\n",
      "***** WARNING: File ./ecc_pipe/resource/Analysis/reference/genes.10X.hg38.all.bed has inconsistent naming convention for record:\n",
      "GL000009.2\t56140\t58376\tBX004987.1\n",
      "\n",
      "***** WARNING: File ./ecc_pipe/resource/Analysis/reference/genes.10X.hg38.all.bed has inconsistent naming convention for record:\n",
      "GL000009.2\t56140\t58376\tBX004987.1\n",
      "\n",
      "***** WARNING: File ./ecc_pipe/resource/Analysis/reference/genes.10X.hg38.all.bed has inconsistent naming convention for record:\n",
      "GL000009.2\t56140\t58376\tBX004987.1\n",
      "\n",
      "***** WARNING: File ./ecc_pipe/resource/Analysis/reference/genes.10X.hg38.all.bed has inconsistent naming convention for record:\n",
      "GL000009.2\t56140\t58376\tBX004987.1\n",
      "\n",
      "***** WARNING: File ./ecc_pipe/resource/Analysis/reference/genes.10X.hg38.all.bed has inconsistent naming convention for record:\n",
      "GL000009.2\t56140\t58376\tBX004987.1\n",
      "\n",
      "***** WARNING: File ./ecc_pipe/resource/Analysis/reference/genes.10X.hg38.all.bed has inconsistent naming convention for record:\n",
      "GL000009.2\t56140\t58376\tBX004987.1\n",
      "\n",
      "***** WARNING: File ./ecc_pipe/resource/Analysis/reference/genes.10X.hg38.all.bed has inconsistent naming convention for record:\n",
      "GL000009.2\t56140\t58376\tBX004987.1\n",
      "\n",
      "***** WARNING: File ./ecc_pipe/resource/Analysis/reference/genes.10X.hg38.all.bed has inconsistent naming convention for record:\n",
      "GL000009.2\t56140\t58376\tBX004987.1\n",
      "\n"
     ]
    },
    {
     "name": "stdout",
     "output_type": "stream",
     "text": [
      "Make ecc gene number matrix end!\n"
     ]
    },
    {
     "name": "stderr",
     "output_type": "stream",
     "text": [
      "***** WARNING: File ./ecc_pipe/resource/Analysis/reference/genes.10X.hg38.all.bed has inconsistent naming convention for record:\n",
      "GL000009.2\t56140\t58376\tBX004987.1\n",
      "\n",
      "***** WARNING: File ./ecc_pipe/resource/Analysis/reference/genes.10X.hg38.all.bed has inconsistent naming convention for record:\n",
      "GL000009.2\t56140\t58376\tBX004987.1\n",
      "\n",
      "***** WARNING: File ./ecc_pipe/resource/Analysis/reference/genes.10X.hg38.all.bed has inconsistent naming convention for record:\n",
      "GL000009.2\t56140\t58376\tBX004987.1\n",
      "\n",
      "***** WARNING: File ./ecc_pipe/resource/Analysis/reference/genes.10X.hg38.all.bed has inconsistent naming convention for record:\n",
      "GL000009.2\t56140\t58376\tBX004987.1\n",
      "\n"
     ]
    }
   ],
   "source": [
    "## annotate eccDNA in gene in params from '_type' and 'trim'\n",
    "ecc_pipe_path = './ecc_pipe' ## please set download resource file first \n",
    "eccDNA_deg.make_ecc_number_matrix(ecc_pipe_path=ecc_pipe_path) "
   ]
  },
  {
   "cell_type": "code",
   "execution_count": 11,
   "id": "sporting-diving",
   "metadata": {
    "scrolled": true
   },
   "outputs": [
    {
     "name": "stdout",
     "output_type": "stream",
     "text": [
      "deg run start!\n"
     ]
    },
    {
     "name": "stderr",
     "output_type": "stream",
     "text": [
      "Warning message:\n",
      "package ‘limma’ was built under R version 4.2.3 \n",
      "Warning message:\n",
      "package ‘edgeR’ was built under R version 4.2.3 \n"
     ]
    },
    {
     "name": "stdout",
     "output_type": "stream",
     "text": [
      "(0, 3)\n",
      "(5, 3)\n"
     ]
    },
    {
     "data": {
      "image/png": "[encoded data removed]",
      "text/plain": [
       "<Figure size 576x480 with 1 Axes>"
      ]
     },
     "metadata": {},
     "output_type": "display_data"
    },
    {
     "name": "stdout",
     "output_type": "stream",
     "text": [
      "deg run end!\n"
     ]
    }
   ],
   "source": [
    "## run DEG\n",
    "ecc_pipe_path = './ecc_pipe' ## please set download resource file first \n",
    "R_env = '~/miniconda3/envs/ecc_pipe/bin/Rscript'\n",
    "eccDNA_deg.deg_run(pvalue=0.05, log2fc=0.5, xlim=10, ylim=5,\n",
    "                      mode='limma', ## str in ['deseq2','limma', 'edger']\n",
    "                      ecc_pipe_path=ecc_pipe_path, R_env=R_env)"
   ]
  },
  {
   "cell_type": "code",
   "execution_count": 12,
   "id": "architectural-plastic",
   "metadata": {
    "scrolled": true
   },
   "outputs": [
    {
     "name": "stdout",
     "output_type": "stream",
     "text": [
      "clusterprofile run start!\n"
     ]
    },
    {
     "name": "stderr",
     "output_type": "stream",
     "text": [
      "\n",
      "DOSE v3.24.0  For help: https://yulab-smu.top/biomedical-knowledge-mining-book/\n",
      "\n",
      "If you use DOSE in published research, please cite:\n",
      "Guangchuang Yu, Li-Gen Wang, Guang-Rong Yan, Qing-Yu He. DOSE: an R/Bioconductor package for Disease Ontology Semantic and Enrichment analysis. Bioinformatics 2015, 31(4):608-609\n",
      "\n",
      "\n",
      "Attaching package: ‘dplyr’\n",
      "\n",
      "The following objects are masked from ‘package:stats’:\n",
      "\n",
      "    filter, lag\n",
      "\n",
      "The following objects are masked from ‘package:base’:\n",
      "\n",
      "    intersect, setdiff, setequal, union\n",
      "\n",
      "Warning message:\n",
      "package ‘dplyr’ was built under R version 4.2.3 \n",
      "Loading required package: AnnotationDbi\n",
      "Loading required package: stats4\n",
      "Loading required package: BiocGenerics\n",
      "\n",
      "Attaching package: ‘BiocGenerics’\n",
      "\n",
      "The following objects are masked from ‘package:dplyr’:\n",
      "\n",
      "    combine, intersect, setdiff, union\n",
      "\n",
      "The following objects are masked from ‘package:stats’:\n",
      "\n",
      "    IQR, mad, sd, var, xtabs\n",
      "\n",
      "The following objects are masked from ‘package:base’:\n",
      "\n",
      "    anyDuplicated, aperm, append, as.data.frame, basename, cbind,\n",
      "    colnames, dirname, do.call, duplicated, eval, evalq, Filter, Find,\n",
      "    get, grep, grepl, intersect, is.unsorted, lapply, Map, mapply,\n",
      "    match, mget, order, paste, pmax, pmax.int, pmin, pmin.int,\n",
      "    Position, rank, rbind, Reduce, rownames, sapply, setdiff, sort,\n",
      "    table, tapply, union, unique, unsplit, which.max, which.min\n",
      "\n",
      "Loading required package: Biobase\n",
      "Welcome to Bioconductor\n",
      "\n",
      "    Vignettes contain introductory material; view with\n",
      "    'browseVignettes()'. To cite Bioconductor, see\n",
      "    'citation(\"Biobase\")', and for packages 'citation(\"pkgname\")'.\n",
      "\n",
      "Loading required package: IRanges\n",
      "Loading required package: S4Vectors\n",
      "\n",
      "Attaching package: ‘S4Vectors’\n",
      "\n",
      "The following objects are masked from ‘package:dplyr’:\n",
      "\n",
      "    first, rename\n",
      "\n",
      "The following objects are masked from ‘package:base’:\n",
      "\n",
      "    expand.grid, I, unname\n",
      "\n",
      "\n",
      "Attaching package: ‘IRanges’\n",
      "\n",
      "The following objects are masked from ‘package:dplyr’:\n",
      "\n",
      "    collapse, desc, slice\n",
      "\n",
      "\n",
      "Attaching package: ‘AnnotationDbi’\n",
      "\n",
      "The following object is masked from ‘package:dplyr’:\n",
      "\n",
      "    select\n",
      "\n",
      "\n",
      "Warning messages:\n",
      "1: package ‘Biobase’ was built under R version 4.2.3 \n",
      "2: package ‘IRanges’ was built under R version 4.2.3 \n",
      "3: package ‘S4Vectors’ was built under R version 4.2.3 \n",
      "\n",
      "clusterProfiler v4.6.0  For help: https://yulab-smu.top/biomedical-knowledge-mining-book/\n",
      "\n",
      "If you use clusterProfiler in published research, please cite:\n",
      "T Wu, E Hu, S Xu, M Chen, P Guo, Z Dai, T Feng, L Zhou, W Tang, L Zhan, X Fu, S Liu, X Bo, and G Yu. clusterProfiler 4.0: A universal enrichment tool for interpreting omics data. The Innovation. 2021, 2(3):100141\n",
      "\n",
      "Attaching package: ‘clusterProfiler’\n",
      "\n",
      "The following object is masked from ‘package:AnnotationDbi’:\n",
      "\n",
      "    select\n",
      "\n",
      "The following object is masked from ‘package:IRanges’:\n",
      "\n",
      "    slice\n",
      "\n",
      "The following object is masked from ‘package:S4Vectors’:\n",
      "\n",
      "    rename\n",
      "\n",
      "The following object is masked from ‘package:stats’:\n",
      "\n",
      "    filter\n",
      "\n",
      "Warning message:\n",
      "package ‘ggplot2’ was built under R version 4.2.3 \n",
      "\n",
      "Attaching package: ‘cowplot’\n",
      "\n",
      "The following object is masked from ‘package:patchwork’:\n",
      "\n",
      "    align_plots\n",
      "\n",
      "--> No gene can be mapped....\n",
      "--> Expected input gene ID: ENSG00000163075,ENSG00000064703,ENSG00000183833,ENSG00000196584,ENSG00000220201,ENSG00000136273\n",
      "--> return NULL...\n",
      "'select()' returned 1:many mapping between keys and columns\n",
      "Warning message:\n",
      "In bitr(rownames(DEG_result), fromType = \"SYMBOL\", toType = c(\"ENSEMBL\",  :\n",
      "  20% of input gene IDs are fail to map...\n",
      "'select()' returned 1:1 mapping between keys and columns\n",
      "Warning message:\n",
      "In bitr(gene, fromType = \"SYMBOL\", toType = \"ENTREZID\", OrgDb = \"org.Hs.eg.db\") :\n",
      "  3.14% of input gene IDs are fail to map...\n",
      "preparing geneSet collections...\n",
      "GSEA analysis...\n",
      "leading edge analysis...\n",
      "done...\n",
      "Warning message:\n",
      "In preparePathwaysAndStats(pathways, stats, minSize, maxSize, gseaParam,  :\n",
      "  There are ties in the preranked stats (61.69% of the list).\n",
      "The order of those tied genes will be arbitrary, which may produce unexpected results.\n",
      "Warning messages:\n",
      "1: In write.csv(gsea_df, file = gsea_result_1, sep = \",\", row.names = TRUE,  :\n",
      "  attempt to set 'col.names' ignored\n",
      "2: In write.csv(gsea_df, file = gsea_result_1, sep = \",\", row.names = TRUE,  :\n",
      "  attempt to set 'sep' ignored\n",
      "Warning messages:\n",
      "1: In write.csv(data_all_sort, file = gsea_result_2, sep = \",\", row.names = TRUE,  :\n",
      "  attempt to set 'col.names' ignored\n",
      "2: In write.csv(data_all_sort, file = gsea_result_2, sep = \",\", row.names = TRUE,  :\n",
      "  attempt to set 'sep' ignored\n"
     ]
    },
    {
     "name": "stdout",
     "output_type": "stream",
     "text": [
      "clusterprofile run end!\n"
     ]
    }
   ],
   "source": [
    "## clusterprofile GO\n",
    "ecc_pipe_path = './ecc_pipe' ## please set download resource file first \n",
    "R_env = '~/miniconda3/envs/ecc_pipe/bin/Rscript'\n",
    "eccDNA_deg.clusterprofile_run(pvalue=0.05, log2fc=0.5,\n",
    "                              mode='limma', ## str in ['deseq2','limma', 'edger']\n",
    "                              ecc_pipe_path=ecc_pipe_path, R_env=R_env)"
   ]
  },
  {
   "cell_type": "code",
   "execution_count": 13,
   "id": "catholic-forward",
   "metadata": {},
   "outputs": [
    {
     "data": {
      "text/plain": [
       "['count.txt',\n",
       " 'deseq2_norm_matrix.csv',\n",
       " 'deseq2_result.csv',\n",
       " 'deseq2.volcano.pdf',\n",
       " 'edger_norm_matrix.csv',\n",
       " 'edger_result.csv',\n",
       " 'edger.volcano.pdf',\n",
       " 'limma_norm_matrix.csv',\n",
       " 'limma_result.csv',\n",
       " 'limma.volcano.pdf']"
      ]
     },
     "execution_count": 13,
     "metadata": {},
     "output_type": "execute_result"
    }
   ],
   "source": [
    "## result file list\n",
    "os.listdir('./data/github_online/deg_test/01.ecc_deg_output/')"
   ]
  },
  {
   "cell_type": "code",
   "execution_count": 14,
   "id": "little-loading",
   "metadata": {},
   "outputs": [
    {
     "data": {
      "text/plain": [
       "['limma_GO_down.csv',\n",
       " 'limma_gsea_result_1.csv',\n",
       " 'limma_gsea_result_2.csv',\n",
       " 'limma_gsea_top_1.pdf',\n",
       " 'limma_gsea_top_2.pdf',\n",
       " 'limma_gsea_top_3.pdf',\n",
       " 'limma_gsea_top_4.pdf',\n",
       " 'limma_gsea_top_5.pdf',\n",
       " 'limma_gsea_result_final.csv']"
      ]
     },
     "execution_count": 14,
     "metadata": {},
     "output_type": "execute_result"
    }
   ],
   "source": [
    "## result file list\n",
    "os.listdir('./data/github_online/deg_test/02.ecc_deg_go_kegg/')"
   ]
  },
  {
   "cell_type": "code",
   "execution_count": null,
   "id": "composite-perception",
   "metadata": {},
   "outputs": [],
   "source": []
  }
 ],
 "metadata": {
  "kernelspec": {
   "display_name": "py_ecc_pipe",
   "language": "python",
   "name": "py_ecc_pipe"
  },
  "language_info": {
   "codemirror_mode": {
    "name": "ipython",
    "version": 3
   },
   "file_extension": ".py",
   "mimetype": "text/x-python",
   "name": "python",
   "nbconvert_exporter": "python",
   "pygments_lexer": "ipython3",
   "version": "3.8.13"
  }
 },
 "nbformat": 4,
 "nbformat_minor": 5
}
