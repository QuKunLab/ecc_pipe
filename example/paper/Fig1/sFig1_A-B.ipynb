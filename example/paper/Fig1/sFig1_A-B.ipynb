{
 "cells": [
  {
   "cell_type": "code",
   "execution_count": 1,
   "id": "51d77b29-b922-4315-a0e3-236a187dd95e",
   "metadata": {},
   "outputs": [],
   "source": [
    "import numpy as np\n",
    "import pandas as pd\n",
    "import os\n",
    "from scipy import stats\n",
    "import seaborn as sns"
   ]
  },
  {
   "cell_type": "code",
   "execution_count": 2,
   "id": "09e6ec2c-356d-4603-81ce-2a95a146646f",
   "metadata": {},
   "outputs": [],
   "source": [
    "import matplotlib as mpl\n",
    "import matplotlib.pyplot as plt\n",
    "import matplotlib.gridspec as gs\n",
    "import matplotlib.font_manager as font_manager\n",
    "font_manager.fontManager.addfont('/home/qukun/liuke/miniconda3/fonts/Arial.ttf')\n",
    "mpl.rcParams[\"font.sans-serif\"] = \"Arial\"\n",
    "mpl.rcParams['pdf.fonttype'] = 42\n",
    "mpl.rcParams['ps.fonttype'] = 42\n",
    "mpl.rcParams['font.serif'] = ['Arial']\n",
    "color_palette = {'paper':'#003DF5', 'pipe':'#F5003D'}"
   ]
  },
  {
   "cell_type": "markdown",
   "id": "77ae6e66-62d7-493a-b048-8762020555db",
   "metadata": {},
   "source": [
    "### 0 Read the data"
   ]
  },
  {
   "cell_type": "code",
   "execution_count": 3,
   "id": "8c83974a-3017-4bee-9c1e-8fa2ba1148f1",
   "metadata": {},
   "outputs": [],
   "source": [
    "time_liu = pd.read_excel(\"./mapcircle_time.xlsx\",sheet_name=-1,index_col=0)\n",
    "time_luo = pd.read_excel(\"./luo.xlsx\",sheet_name=-1,index_col=0)"
   ]
  },
  {
   "cell_type": "markdown",
   "id": "c8f3a822-2e14-493e-85ae-5c81568d79ac",
   "metadata": {},
   "source": [
    "### 1 Transfer into plot marix"
   ]
  },
  {
   "cell_type": "code",
   "execution_count": null,
   "id": "c6dd9089-f7b9-4585-b962-69c2018dbe7c",
   "metadata": {},
   "outputs": [],
   "source": [
    "time_plot = pd.DataFrame(columns=['SampleID','Time','Memory','Group','Tool'])\n",
    "k=0\n",
    "for i in time_liu.index:\n",
    "    time_plot.loc[k]=[i,time_liu.loc[i,'time_tn'],time_liu.loc[i,'mem_tn'],'paper','Circle-Map']\n",
    "    k+=1\n",
    "    time_plot.loc[k]=[i,time_liu.loc[i,'time_tp'],time_liu.loc[i,'mem_tp'],'pipe','Circle-Map']\n",
    "    k+=1\n",
    "for i in time_luo.index:\n",
    "    if i!='GBM':\n",
    "        time_plot.loc[k]=[i,time_luo.loc[i,'time_tn'],time_luo.loc[i,'mem_tn'],'paper','CReSIL']\n",
    "        k+=1\n",
    "        time_plot.loc[k]=[i,time_luo.loc[i,'time_tp'],time_luo.loc[i,'mem_tp'],'pipe','CReSIL']\n",
    "        k+=1\n",
    "    else:\n",
    "        time_plot.loc[k]=[i,time_luo.loc[i,'time_tn'],time_luo.loc[i,'mem_tn'],'paper','AmpliconArchitect']\n",
    "        k+=1\n",
    "        time_plot.loc[k]=[i,time_luo.loc[i,'time_tp'],time_luo.loc[i,'mem_tp'],'pipe','AmpliconArchitect']\n",
    "        k+=1"
   ]
  },
  {
   "cell_type": "code",
   "execution_count": null,
   "id": "3d4e31ba-d30e-48b8-aeea-0427ebc55e4a",
   "metadata": {},
   "outputs": [],
   "source": [
    "for i in time_plot.index:\n",
    "    if (time_plot.loc[i,'Group'] == 'pipe'):\n",
    "        shift=-0.2\n",
    "    else:\n",
    "        shift=0.2\n",
    "    if (time_plot.loc[i,'Tool'] == 'Circle-Map'):\n",
    "        time_plot.loc[i,'location'] = 0+shift\n",
    "    elif (time_plot.loc[i,'Tool'] == 'CReSIL'):\n",
    "        time_plot.loc[i,'location'] = 1+shift\n",
    "    else:\n",
    "        time_plot.loc[i,'location'] = 2+shift"
   ]
  },
  {
   "cell_type": "markdown",
   "id": "51de776e-9ccc-4707-bb6d-c670a3bb5376",
   "metadata": {},
   "source": [
    "### 2 Plot"
   ]
  },
  {
   "cell_type": "code",
   "execution_count": null,
   "id": "265fbbd5-2c6b-4757-9d9d-691a4bdec13a",
   "metadata": {},
   "outputs": [],
   "source": [
    "fig = plt.figure(figsize=(30,20));\n",
    "fig = gs.GridSpec(30, 30, hspace=0.1, wspace=2);\n",
    "paper_color = color_palette['paper'];pipe_color=color_palette['pipe']\n",
    "tool_list = ['Circle-Map','CReSIL','AmpliconArchitect']\n",
    "ploty_list = ['Time','Memory']\n",
    "label_list = ['Time \\ min', 'Memory \\ GB']\n",
    "lim_min = [10, 9.5]\n",
    "lim_max = [5000, 32]\n",
    "\n",
    "for j in range(2):\n",
    "    ploty = ploty_list[j]\n",
    "    if (j==0):\n",
    "        yticks = [10,100,1000,]\n",
    "        ytickl = ['$10^{1}$','$10^{2}$','$10^{3}$']\n",
    "    else:\n",
    "        yticks = [3,9,27]\n",
    "        ytickl = ['3', '9', '27']\n",
    "        \n",
    "    locals()['ax'+str(j)] = plt.subplot(fig[0:30,16*j:16*j+14])\n",
    "    sns.boxplot(data=time_plot, x='Tool',y=ploty,hue='Group',hue_order=['pipe','paper'],palette=color_palette,\n",
    "                fill=False,\n",
    "                fliersize=0,\n",
    "                saturation=0.35,\n",
    "                log_scale=True,\n",
    "                gap=0.1,\n",
    "                ax=locals()['ax'+str(j)])\n",
    "    sns.stripplot(data=time_plot, x='Tool', y=ploty, hue='Group', hue_order=['pipe','paper'], dodge=True,\n",
    "                             palette=color_palette,\n",
    "                             ax=locals()['ax'+str(j)],\n",
    "                             alpha=0.65,\n",
    "                             jitter=False,\n",
    "                             size=6, \n",
    "                             legend=False)\n",
    "    for sample in time_plot.SampleID.unique():\n",
    "        sns.lineplot(data=time_plot[time_plot.SampleID==sample], x='location', y=ploty,\n",
    "                             color='gray',\n",
    "                             ax=locals()['ax'+str(j)],\n",
    "                             alpha=0.65,\n",
    "                    )\n",
    "        text = time_plot[(time_plot.SampleID==sample)&(time_plot.Group=='pipe')]\n",
    "        locals()['ax'+str(j)].text(text.location,text[ploty],\n",
    "                                   sample, \n",
    "                                   horizontalalignment='center', \n",
    "                                   fontsize=15, \n",
    "                                   color='black')\n",
    "        \n",
    "    locals()['ax'+str(j)].set_ylim([lim_min[j],lim_max[j]])\n",
    "    locals()['ax'+str(j)].set_xlabel('',fontsize=20)\n",
    "    locals()['ax'+str(j)].set_ylabel(label_list[j],fontsize=20)\n",
    "    locals()['ax'+str(j)].set_xticks([0,1,2], tool_list, fontsize=20)\n",
    "    locals()['ax'+str(j)].set_yticks(yticks,ytickl,fontsize=15)\n",
    "    locals()['ax'+str(j)].legend(loc=2,bbox_to_anchor=(1,1))\n",
    "    handler, label = locals()['ax'+str(j)].get_legend_handles_labels()\n",
    "    locals()['ax'+str(j)].legend(handler, [\"eccDNA_pipe\",\"Original Tools\"],loc=1,bbox_to_anchor=(1,1),fontsize=20)\n",
    "plt.savefig('./time.pdf', dpi=2000, bbox_inches='tight')"
   ]
  },
  {
   "cell_type": "code",
   "execution_count": null,
   "id": "ead65f31-d427-4922-8256-8f807173429c",
   "metadata": {},
   "outputs": [],
   "source": []
  }
 ],
 "metadata": {
  "kernelspec": {
   "display_name": "scanpy",
   "language": "python",
   "name": "scanpy"
  },
  "language_info": {
   "codemirror_mode": {
    "name": "ipython",
    "version": 3
   },
   "file_extension": ".py",
   "mimetype": "text/x-python",
   "name": "python",
   "nbconvert_exporter": "python",
   "pygments_lexer": "ipython3",
   "version": "3.9.13"
  }
 },
 "nbformat": 4,
 "nbformat_minor": 5
}
