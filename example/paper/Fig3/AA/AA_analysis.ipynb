{
 "cells": [
  {
   "cell_type": "code",
   "execution_count": 1,
   "id": "terminal-modem",
   "metadata": {},
   "outputs": [],
   "source": [
    "import numpy as np\n",
    "import pandas as pd\n",
    "import seaborn as sns\n",
    "import matplotlib as mpl\n",
    "import matplotlib.pyplot as plt\n",
    "import warnings\n",
    "import os\n",
    "mpl.rcParams[\"font.sans-serif\"] = \"Arial\"\n",
    "warnings.filterwarnings('ignore')\n",
    "%config InlineBackend.figure_format = 'retina'\n",
    "%matplotlib inline"
   ]
  },
  {
   "cell_type": "code",
   "execution_count": 2,
   "id": "solved-helen",
   "metadata": {},
   "outputs": [],
   "source": [
    "import sys\n",
    "sys.path.append('./ecc_pipe/analysis_code')\n",
    "from Distribution import *\n",
    "from DEG import *\n",
    "from Circlize import *"
   ]
  },
  {
   "cell_type": "markdown",
   "id": "present-cooperation",
   "metadata": {},
   "source": [
    "## AA_data"
   ]
  },
  {
   "cell_type": "code",
   "execution_count": 3,
   "id": "classified-general",
   "metadata": {},
   "outputs": [],
   "source": [
    "## raw data from 2021 Nature\n",
    "## https://doi.org/10.1038/s41586-021-04116-8"
   ]
  },
  {
   "cell_type": "code",
   "execution_count": 4,
   "id": "roman-reset",
   "metadata": {},
   "outputs": [],
   "source": [
    "## shell code Distribution example:\n",
    "#####\n",
    "## source /home/qukun/minghaofang/miniconda3/etc/profile.d/conda.sh\n",
    "## conda activate ecc_pipe\n",
    "## cd /home/qukun/minghaofang/workspace/project/ecc/pipe/ecc_pipe \n",
    "## python3 ecc_pipe_master.py --Analysis --mode Distribution --tool AA \\\n",
    "##                --file_path $path/AA/GBM39_result_table.tsv \\\n",
    "##                --geno hg38 --ratio 0.5"
   ]
  },
  {
   "cell_type": "code",
   "execution_count": 5,
   "id": "consistent-scheme",
   "metadata": {},
   "outputs": [],
   "source": [
    "## shell code Visualize example:\n",
    "#####\n",
    "## source /home/qukun/minghaofang/miniconda3/etc/profile.d/conda.sh\n",
    "## conda activate ecc_pipe\n",
    "## cd /home/qukun/minghaofang/workspace/project/ecc/pipe/ecc_pipe \n",
    "## python3 ecc_pipe_master.py --Analysis --mode Visualize \\\n",
    "##                --bed_file $path/AA/ecc_pipe_result/AA_result.analysis.bed \\\n",
    "##                --geno hg38 --ecc_id 2"
   ]
  },
  {
   "cell_type": "code",
   "execution_count": 6,
   "id": "massive-williams",
   "metadata": {},
   "outputs": [],
   "source": [
    "## Here is Python code for the same function (Distribution/Visualize)"
   ]
  },
  {
   "cell_type": "code",
   "execution_count": null,
   "id": "liked-sellers",
   "metadata": {
    "scrolled": true
   },
   "outputs": [
    {
     "name": "stdout",
     "output_type": "stream",
     "text": [
      "Run fast Start!\n",
      "\tMake chr bed & QC start!\n",
      "\tMake chr bed & QC over!\n",
      "\tPlot Chr distribution Start!\n",
      "\tPlot Chr distribution over!\n",
      "\tPlot Length distribution Start!\n",
      "\tPlot Length distribution over!\n",
      "\tPlot homer anno distribution Start!\n"
     ]
    },
    {
     "name": "stderr",
     "output_type": "stream",
     "text": [
      "\n",
      "\tPeak file = ./data/nebula/AA/ecc_pipe_result/AA_result.analysis.bed\n",
      "\tGenome = hg38\n",
      "\tOrganism = human\n",
      "\tPeak/BED file conversion summary:\n",
      "\t\tBED/Header formatted lines: 17\n",
      "\t\tpeakfile formatted lines: 0\n",
      "\t\tDuplicated Peak IDs: 14\n",
      "\n",
      "\tPeak File Statistics:\n",
      "\t\tTotal Peaks: 17\n",
      "\t\tRedundant Peak IDs: 0\n",
      "\t\tPeaks lacking information: 0 (need at least 5 columns per peak)\n",
      "\t\tPeaks with misformatted coordinates: 0 (should be integer)\n",
      "\t\tPeaks with misformatted strand: 0 (should be either +/- or 0/1)\n",
      "\n",
      "\tPeak file looks good!\n",
      "\n",
      "\tReading Positions...\n",
      "\t-----------------------\n",
      "\tFinding Closest TSS...\n",
      "\tAnnotating:...\n",
      "\t\tAnnotation\tNumber of peaks\tTotal size (bp)\tLog2 Ratio (obs/exp)\tLogP enrichment (+values depleted)\n",
      "\t\t3UTR\t0.0\t3183347\t-0.187\t0.138\n",
      "\t\tmiRNA\t0.0\t11061\t-0.001\t0.000\n",
      "\t\tncRNA\t0.0\t945074\t-0.058\t0.041\n",
      "\t\tTTS\t0.0\t4085497\t-0.236\t0.177\n",
      "\t\tpseudo\t0.0\t394498\t-0.024\t0.017\n",
      "\t\tExon\t0.0\t4540872\t-0.261\t0.197\n",
      "\t\tIntron\t2.0\t171702818\t-1.888\t5.162\n",
      "\t\tIntergenic\t15.0\t204756004\t0.765\t-6.252\n",
      "\t\tPromoter\t0.0\t4492012\t-0.258\t0.195\n",
      "\t\t5UTR\t0.0\t331652\t-0.020\t0.014\n",
      "\t\tsnoRNA\t0.0\t16\t-0.000\t0.000\n",
      "\tNOTE: If this part takes more than 2 minutes, there is a good chance\n",
      "\t\tyour machine ran out of memory: consider hitting ctrl+C and rerunning\n",
      "\t\tthe command with \"-noann\"\n",
      "\tTo capture annotation stats in a file, use \"-annStats <filename>\" next time\n"
     ]
    }
   ],
   "source": [
    "## Distribution\n",
    "path_share = './data/nebula/AA/'\n",
    "_type = 'AA'\n",
    "geno = 'hg38'\n",
    "ecc_pipe_path = './ecc_pipe' ## please set download resource file first\n",
    "file_path = './data/nebula/AA/GBM39_result_table.tsv'\n",
    "eccDNA = distribution(file_path, _type, geno)\n",
    "eccDNA.run_fast(ecc_pipe_path=ecc_pipe_path, ratio=0.5)"
   ]
  },
  {
   "cell_type": "code",
   "execution_count": null,
   "id": "varying-leather",
   "metadata": {},
   "outputs": [],
   "source": [
    "## 输入 result_file_path(含有 analysis.bed文件)\n",
    "bed_file = './data/nebula/AA/ecc_pipe_result/AA_result.analysis.bed'\n",
    "ecc_id = 2\n",
    "geno='hg38'\n",
    "ecc_pipe_path = './ecc_pipe' ## please set download resource file first \n",
    "R_env = '~/miniconda3/envs/ecc_pipe/bin/Rscript'\n",
    "\n",
    "## annotation gene for show in eccDNA\n",
    "ratio=1 ## overlap ratio for compute gene in eccDNA\n",
    "_type='gene'\n",
    "## gene: comput gene in eccDNA / region: comput eccDNA in gene\n",
    "\n",
    "make_circlize_file(bed_file, geno,ecc_id, ratio=ratio, _type=_type, ecc_pipe_path=ecc_pipe_path, R_env=R_env)"
   ]
  },
  {
   "cell_type": "code",
   "execution_count": null,
   "id": "obvious-weather",
   "metadata": {},
   "outputs": [],
   "source": [
    "## result file list\n",
    "os.listdir('./data/nebula/AA/ecc_pipe_result/06.circlize/')"
   ]
  },
  {
   "cell_type": "code",
   "execution_count": null,
   "id": "bizarre-fraud",
   "metadata": {},
   "outputs": [],
   "source": []
  },
  {
   "cell_type": "code",
   "execution_count": null,
   "id": "anonymous-period",
   "metadata": {},
   "outputs": [],
   "source": []
  }
 ],
 "metadata": {
  "kernelspec": {
   "display_name": "ecc_pipe",
   "language": "python",
   "name": "ecc_pipe"
  },
  "language_info": {
   "codemirror_mode": {
    "name": "ipython",
    "version": 3
   },
   "file_extension": ".py",
   "mimetype": "text/x-python",
   "name": "python",
   "nbconvert_exporter": "python",
   "pygments_lexer": "ipython3",
   "version": "3.8.13"
  }
 },
 "nbformat": 4,
 "nbformat_minor": 5
}
